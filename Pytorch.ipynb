{
  "nbformat": 4,
  "nbformat_minor": 0,
  "metadata": {
    "colab": {
      "name": "Pytorch.ipynb",
      "provenance": [],
      "authorship_tag": "ABX9TyP/yVjt/7zayWKLExuNhkrw",
      "include_colab_link": true
    },
    "kernelspec": {
      "name": "python3",
      "display_name": "Python 3"
    },
    "language_info": {
      "name": "python"
    },
    "widgets": {
      "application/vnd.jupyter.widget-state+json": {
        "bd1c63c7d0da4a1eb55ad7e411ec2241": {
          "model_module": "@jupyter-widgets/controls",
          "model_name": "HBoxModel",
          "model_module_version": "1.5.0",
          "state": {
            "_dom_classes": [],
            "_model_module": "@jupyter-widgets/controls",
            "_model_module_version": "1.5.0",
            "_model_name": "HBoxModel",
            "_view_count": null,
            "_view_module": "@jupyter-widgets/controls",
            "_view_module_version": "1.5.0",
            "_view_name": "HBoxView",
            "box_style": "",
            "children": [
              "IPY_MODEL_c73fdeb5e4b6448a93ef1c0618762507",
              "IPY_MODEL_543d7128be664fda896a32759d78a5e1",
              "IPY_MODEL_3d5d676892094fb1bb81b6baacb696de"
            ],
            "layout": "IPY_MODEL_53b23ca4492748139e47b403555be000"
          }
        },
        "c73fdeb5e4b6448a93ef1c0618762507": {
          "model_module": "@jupyter-widgets/controls",
          "model_name": "HTMLModel",
          "model_module_version": "1.5.0",
          "state": {
            "_dom_classes": [],
            "_model_module": "@jupyter-widgets/controls",
            "_model_module_version": "1.5.0",
            "_model_name": "HTMLModel",
            "_view_count": null,
            "_view_module": "@jupyter-widgets/controls",
            "_view_module_version": "1.5.0",
            "_view_name": "HTMLView",
            "description": "",
            "description_tooltip": null,
            "layout": "IPY_MODEL_652c71abe9f2460caa8a2b5b23f172f0",
            "placeholder": "​",
            "style": "IPY_MODEL_0f68835ecc7d4506a0e813e49ed24a1f",
            "value": "100%"
          }
        },
        "543d7128be664fda896a32759d78a5e1": {
          "model_module": "@jupyter-widgets/controls",
          "model_name": "FloatProgressModel",
          "model_module_version": "1.5.0",
          "state": {
            "_dom_classes": [],
            "_model_module": "@jupyter-widgets/controls",
            "_model_module_version": "1.5.0",
            "_model_name": "FloatProgressModel",
            "_view_count": null,
            "_view_module": "@jupyter-widgets/controls",
            "_view_module_version": "1.5.0",
            "_view_name": "ProgressView",
            "bar_style": "success",
            "description": "",
            "description_tooltip": null,
            "layout": "IPY_MODEL_bd6683e548ea48da941edaab0e0ab3ce",
            "max": 9912422,
            "min": 0,
            "orientation": "horizontal",
            "style": "IPY_MODEL_15a219ee381a4ea68959d318f223d454",
            "value": 9912422
          }
        },
        "3d5d676892094fb1bb81b6baacb696de": {
          "model_module": "@jupyter-widgets/controls",
          "model_name": "HTMLModel",
          "model_module_version": "1.5.0",
          "state": {
            "_dom_classes": [],
            "_model_module": "@jupyter-widgets/controls",
            "_model_module_version": "1.5.0",
            "_model_name": "HTMLModel",
            "_view_count": null,
            "_view_module": "@jupyter-widgets/controls",
            "_view_module_version": "1.5.0",
            "_view_name": "HTMLView",
            "description": "",
            "description_tooltip": null,
            "layout": "IPY_MODEL_c06d33ca041d4b93a195039d9378c758",
            "placeholder": "​",
            "style": "IPY_MODEL_d6d03e3276f8481d8694f67014961168",
            "value": " 9912422/9912422 [00:00&lt;00:00, 21964794.89it/s]"
          }
        },
        "53b23ca4492748139e47b403555be000": {
          "model_module": "@jupyter-widgets/base",
          "model_name": "LayoutModel",
          "model_module_version": "1.2.0",
          "state": {
            "_model_module": "@jupyter-widgets/base",
            "_model_module_version": "1.2.0",
            "_model_name": "LayoutModel",
            "_view_count": null,
            "_view_module": "@jupyter-widgets/base",
            "_view_module_version": "1.2.0",
            "_view_name": "LayoutView",
            "align_content": null,
            "align_items": null,
            "align_self": null,
            "border": null,
            "bottom": null,
            "display": null,
            "flex": null,
            "flex_flow": null,
            "grid_area": null,
            "grid_auto_columns": null,
            "grid_auto_flow": null,
            "grid_auto_rows": null,
            "grid_column": null,
            "grid_gap": null,
            "grid_row": null,
            "grid_template_areas": null,
            "grid_template_columns": null,
            "grid_template_rows": null,
            "height": null,
            "justify_content": null,
            "justify_items": null,
            "left": null,
            "margin": null,
            "max_height": null,
            "max_width": null,
            "min_height": null,
            "min_width": null,
            "object_fit": null,
            "object_position": null,
            "order": null,
            "overflow": null,
            "overflow_x": null,
            "overflow_y": null,
            "padding": null,
            "right": null,
            "top": null,
            "visibility": null,
            "width": null
          }
        },
        "652c71abe9f2460caa8a2b5b23f172f0": {
          "model_module": "@jupyter-widgets/base",
          "model_name": "LayoutModel",
          "model_module_version": "1.2.0",
          "state": {
            "_model_module": "@jupyter-widgets/base",
            "_model_module_version": "1.2.0",
            "_model_name": "LayoutModel",
            "_view_count": null,
            "_view_module": "@jupyter-widgets/base",
            "_view_module_version": "1.2.0",
            "_view_name": "LayoutView",
            "align_content": null,
            "align_items": null,
            "align_self": null,
            "border": null,
            "bottom": null,
            "display": null,
            "flex": null,
            "flex_flow": null,
            "grid_area": null,
            "grid_auto_columns": null,
            "grid_auto_flow": null,
            "grid_auto_rows": null,
            "grid_column": null,
            "grid_gap": null,
            "grid_row": null,
            "grid_template_areas": null,
            "grid_template_columns": null,
            "grid_template_rows": null,
            "height": null,
            "justify_content": null,
            "justify_items": null,
            "left": null,
            "margin": null,
            "max_height": null,
            "max_width": null,
            "min_height": null,
            "min_width": null,
            "object_fit": null,
            "object_position": null,
            "order": null,
            "overflow": null,
            "overflow_x": null,
            "overflow_y": null,
            "padding": null,
            "right": null,
            "top": null,
            "visibility": null,
            "width": null
          }
        },
        "0f68835ecc7d4506a0e813e49ed24a1f": {
          "model_module": "@jupyter-widgets/controls",
          "model_name": "DescriptionStyleModel",
          "model_module_version": "1.5.0",
          "state": {
            "_model_module": "@jupyter-widgets/controls",
            "_model_module_version": "1.5.0",
            "_model_name": "DescriptionStyleModel",
            "_view_count": null,
            "_view_module": "@jupyter-widgets/base",
            "_view_module_version": "1.2.0",
            "_view_name": "StyleView",
            "description_width": ""
          }
        },
        "bd6683e548ea48da941edaab0e0ab3ce": {
          "model_module": "@jupyter-widgets/base",
          "model_name": "LayoutModel",
          "model_module_version": "1.2.0",
          "state": {
            "_model_module": "@jupyter-widgets/base",
            "_model_module_version": "1.2.0",
            "_model_name": "LayoutModel",
            "_view_count": null,
            "_view_module": "@jupyter-widgets/base",
            "_view_module_version": "1.2.0",
            "_view_name": "LayoutView",
            "align_content": null,
            "align_items": null,
            "align_self": null,
            "border": null,
            "bottom": null,
            "display": null,
            "flex": null,
            "flex_flow": null,
            "grid_area": null,
            "grid_auto_columns": null,
            "grid_auto_flow": null,
            "grid_auto_rows": null,
            "grid_column": null,
            "grid_gap": null,
            "grid_row": null,
            "grid_template_areas": null,
            "grid_template_columns": null,
            "grid_template_rows": null,
            "height": null,
            "justify_content": null,
            "justify_items": null,
            "left": null,
            "margin": null,
            "max_height": null,
            "max_width": null,
            "min_height": null,
            "min_width": null,
            "object_fit": null,
            "object_position": null,
            "order": null,
            "overflow": null,
            "overflow_x": null,
            "overflow_y": null,
            "padding": null,
            "right": null,
            "top": null,
            "visibility": null,
            "width": null
          }
        },
        "15a219ee381a4ea68959d318f223d454": {
          "model_module": "@jupyter-widgets/controls",
          "model_name": "ProgressStyleModel",
          "model_module_version": "1.5.0",
          "state": {
            "_model_module": "@jupyter-widgets/controls",
            "_model_module_version": "1.5.0",
            "_model_name": "ProgressStyleModel",
            "_view_count": null,
            "_view_module": "@jupyter-widgets/base",
            "_view_module_version": "1.2.0",
            "_view_name": "StyleView",
            "bar_color": null,
            "description_width": ""
          }
        },
        "c06d33ca041d4b93a195039d9378c758": {
          "model_module": "@jupyter-widgets/base",
          "model_name": "LayoutModel",
          "model_module_version": "1.2.0",
          "state": {
            "_model_module": "@jupyter-widgets/base",
            "_model_module_version": "1.2.0",
            "_model_name": "LayoutModel",
            "_view_count": null,
            "_view_module": "@jupyter-widgets/base",
            "_view_module_version": "1.2.0",
            "_view_name": "LayoutView",
            "align_content": null,
            "align_items": null,
            "align_self": null,
            "border": null,
            "bottom": null,
            "display": null,
            "flex": null,
            "flex_flow": null,
            "grid_area": null,
            "grid_auto_columns": null,
            "grid_auto_flow": null,
            "grid_auto_rows": null,
            "grid_column": null,
            "grid_gap": null,
            "grid_row": null,
            "grid_template_areas": null,
            "grid_template_columns": null,
            "grid_template_rows": null,
            "height": null,
            "justify_content": null,
            "justify_items": null,
            "left": null,
            "margin": null,
            "max_height": null,
            "max_width": null,
            "min_height": null,
            "min_width": null,
            "object_fit": null,
            "object_position": null,
            "order": null,
            "overflow": null,
            "overflow_x": null,
            "overflow_y": null,
            "padding": null,
            "right": null,
            "top": null,
            "visibility": null,
            "width": null
          }
        },
        "d6d03e3276f8481d8694f67014961168": {
          "model_module": "@jupyter-widgets/controls",
          "model_name": "DescriptionStyleModel",
          "model_module_version": "1.5.0",
          "state": {
            "_model_module": "@jupyter-widgets/controls",
            "_model_module_version": "1.5.0",
            "_model_name": "DescriptionStyleModel",
            "_view_count": null,
            "_view_module": "@jupyter-widgets/base",
            "_view_module_version": "1.2.0",
            "_view_name": "StyleView",
            "description_width": ""
          }
        },
        "5d1e8ba01bcb491a8bfe183253e7623b": {
          "model_module": "@jupyter-widgets/controls",
          "model_name": "HBoxModel",
          "model_module_version": "1.5.0",
          "state": {
            "_dom_classes": [],
            "_model_module": "@jupyter-widgets/controls",
            "_model_module_version": "1.5.0",
            "_model_name": "HBoxModel",
            "_view_count": null,
            "_view_module": "@jupyter-widgets/controls",
            "_view_module_version": "1.5.0",
            "_view_name": "HBoxView",
            "box_style": "",
            "children": [
              "IPY_MODEL_69465725b9cd4d789e5b9ce2bd09560c",
              "IPY_MODEL_842ad275bf604c168bd46140cd0eb043",
              "IPY_MODEL_c0fbf36cef3942f5bf7afbd7f2ffb996"
            ],
            "layout": "IPY_MODEL_1e8b13f33a5c4c4392ed59e25a801ff6"
          }
        },
        "69465725b9cd4d789e5b9ce2bd09560c": {
          "model_module": "@jupyter-widgets/controls",
          "model_name": "HTMLModel",
          "model_module_version": "1.5.0",
          "state": {
            "_dom_classes": [],
            "_model_module": "@jupyter-widgets/controls",
            "_model_module_version": "1.5.0",
            "_model_name": "HTMLModel",
            "_view_count": null,
            "_view_module": "@jupyter-widgets/controls",
            "_view_module_version": "1.5.0",
            "_view_name": "HTMLView",
            "description": "",
            "description_tooltip": null,
            "layout": "IPY_MODEL_1f8c9682b6fb48e5b9fdf9a92a283b53",
            "placeholder": "​",
            "style": "IPY_MODEL_a1ab77f866684e449226d1e9b6bb3584",
            "value": "100%"
          }
        },
        "842ad275bf604c168bd46140cd0eb043": {
          "model_module": "@jupyter-widgets/controls",
          "model_name": "FloatProgressModel",
          "model_module_version": "1.5.0",
          "state": {
            "_dom_classes": [],
            "_model_module": "@jupyter-widgets/controls",
            "_model_module_version": "1.5.0",
            "_model_name": "FloatProgressModel",
            "_view_count": null,
            "_view_module": "@jupyter-widgets/controls",
            "_view_module_version": "1.5.0",
            "_view_name": "ProgressView",
            "bar_style": "success",
            "description": "",
            "description_tooltip": null,
            "layout": "IPY_MODEL_13a7e5f87f8c44d2b7ce81d146cd23fe",
            "max": 28881,
            "min": 0,
            "orientation": "horizontal",
            "style": "IPY_MODEL_2ea74527788b45358aa26db3ec48e14a",
            "value": 28881
          }
        },
        "c0fbf36cef3942f5bf7afbd7f2ffb996": {
          "model_module": "@jupyter-widgets/controls",
          "model_name": "HTMLModel",
          "model_module_version": "1.5.0",
          "state": {
            "_dom_classes": [],
            "_model_module": "@jupyter-widgets/controls",
            "_model_module_version": "1.5.0",
            "_model_name": "HTMLModel",
            "_view_count": null,
            "_view_module": "@jupyter-widgets/controls",
            "_view_module_version": "1.5.0",
            "_view_name": "HTMLView",
            "description": "",
            "description_tooltip": null,
            "layout": "IPY_MODEL_0623f1e35be145469bf71cd67cb34885",
            "placeholder": "​",
            "style": "IPY_MODEL_c046cab693424faeb4dd0816dd0d9545",
            "value": " 28881/28881 [00:00&lt;00:00, 537106.13it/s]"
          }
        },
        "1e8b13f33a5c4c4392ed59e25a801ff6": {
          "model_module": "@jupyter-widgets/base",
          "model_name": "LayoutModel",
          "model_module_version": "1.2.0",
          "state": {
            "_model_module": "@jupyter-widgets/base",
            "_model_module_version": "1.2.0",
            "_model_name": "LayoutModel",
            "_view_count": null,
            "_view_module": "@jupyter-widgets/base",
            "_view_module_version": "1.2.0",
            "_view_name": "LayoutView",
            "align_content": null,
            "align_items": null,
            "align_self": null,
            "border": null,
            "bottom": null,
            "display": null,
            "flex": null,
            "flex_flow": null,
            "grid_area": null,
            "grid_auto_columns": null,
            "grid_auto_flow": null,
            "grid_auto_rows": null,
            "grid_column": null,
            "grid_gap": null,
            "grid_row": null,
            "grid_template_areas": null,
            "grid_template_columns": null,
            "grid_template_rows": null,
            "height": null,
            "justify_content": null,
            "justify_items": null,
            "left": null,
            "margin": null,
            "max_height": null,
            "max_width": null,
            "min_height": null,
            "min_width": null,
            "object_fit": null,
            "object_position": null,
            "order": null,
            "overflow": null,
            "overflow_x": null,
            "overflow_y": null,
            "padding": null,
            "right": null,
            "top": null,
            "visibility": null,
            "width": null
          }
        },
        "1f8c9682b6fb48e5b9fdf9a92a283b53": {
          "model_module": "@jupyter-widgets/base",
          "model_name": "LayoutModel",
          "model_module_version": "1.2.0",
          "state": {
            "_model_module": "@jupyter-widgets/base",
            "_model_module_version": "1.2.0",
            "_model_name": "LayoutModel",
            "_view_count": null,
            "_view_module": "@jupyter-widgets/base",
            "_view_module_version": "1.2.0",
            "_view_name": "LayoutView",
            "align_content": null,
            "align_items": null,
            "align_self": null,
            "border": null,
            "bottom": null,
            "display": null,
            "flex": null,
            "flex_flow": null,
            "grid_area": null,
            "grid_auto_columns": null,
            "grid_auto_flow": null,
            "grid_auto_rows": null,
            "grid_column": null,
            "grid_gap": null,
            "grid_row": null,
            "grid_template_areas": null,
            "grid_template_columns": null,
            "grid_template_rows": null,
            "height": null,
            "justify_content": null,
            "justify_items": null,
            "left": null,
            "margin": null,
            "max_height": null,
            "max_width": null,
            "min_height": null,
            "min_width": null,
            "object_fit": null,
            "object_position": null,
            "order": null,
            "overflow": null,
            "overflow_x": null,
            "overflow_y": null,
            "padding": null,
            "right": null,
            "top": null,
            "visibility": null,
            "width": null
          }
        },
        "a1ab77f866684e449226d1e9b6bb3584": {
          "model_module": "@jupyter-widgets/controls",
          "model_name": "DescriptionStyleModel",
          "model_module_version": "1.5.0",
          "state": {
            "_model_module": "@jupyter-widgets/controls",
            "_model_module_version": "1.5.0",
            "_model_name": "DescriptionStyleModel",
            "_view_count": null,
            "_view_module": "@jupyter-widgets/base",
            "_view_module_version": "1.2.0",
            "_view_name": "StyleView",
            "description_width": ""
          }
        },
        "13a7e5f87f8c44d2b7ce81d146cd23fe": {
          "model_module": "@jupyter-widgets/base",
          "model_name": "LayoutModel",
          "model_module_version": "1.2.0",
          "state": {
            "_model_module": "@jupyter-widgets/base",
            "_model_module_version": "1.2.0",
            "_model_name": "LayoutModel",
            "_view_count": null,
            "_view_module": "@jupyter-widgets/base",
            "_view_module_version": "1.2.0",
            "_view_name": "LayoutView",
            "align_content": null,
            "align_items": null,
            "align_self": null,
            "border": null,
            "bottom": null,
            "display": null,
            "flex": null,
            "flex_flow": null,
            "grid_area": null,
            "grid_auto_columns": null,
            "grid_auto_flow": null,
            "grid_auto_rows": null,
            "grid_column": null,
            "grid_gap": null,
            "grid_row": null,
            "grid_template_areas": null,
            "grid_template_columns": null,
            "grid_template_rows": null,
            "height": null,
            "justify_content": null,
            "justify_items": null,
            "left": null,
            "margin": null,
            "max_height": null,
            "max_width": null,
            "min_height": null,
            "min_width": null,
            "object_fit": null,
            "object_position": null,
            "order": null,
            "overflow": null,
            "overflow_x": null,
            "overflow_y": null,
            "padding": null,
            "right": null,
            "top": null,
            "visibility": null,
            "width": null
          }
        },
        "2ea74527788b45358aa26db3ec48e14a": {
          "model_module": "@jupyter-widgets/controls",
          "model_name": "ProgressStyleModel",
          "model_module_version": "1.5.0",
          "state": {
            "_model_module": "@jupyter-widgets/controls",
            "_model_module_version": "1.5.0",
            "_model_name": "ProgressStyleModel",
            "_view_count": null,
            "_view_module": "@jupyter-widgets/base",
            "_view_module_version": "1.2.0",
            "_view_name": "StyleView",
            "bar_color": null,
            "description_width": ""
          }
        },
        "0623f1e35be145469bf71cd67cb34885": {
          "model_module": "@jupyter-widgets/base",
          "model_name": "LayoutModel",
          "model_module_version": "1.2.0",
          "state": {
            "_model_module": "@jupyter-widgets/base",
            "_model_module_version": "1.2.0",
            "_model_name": "LayoutModel",
            "_view_count": null,
            "_view_module": "@jupyter-widgets/base",
            "_view_module_version": "1.2.0",
            "_view_name": "LayoutView",
            "align_content": null,
            "align_items": null,
            "align_self": null,
            "border": null,
            "bottom": null,
            "display": null,
            "flex": null,
            "flex_flow": null,
            "grid_area": null,
            "grid_auto_columns": null,
            "grid_auto_flow": null,
            "grid_auto_rows": null,
            "grid_column": null,
            "grid_gap": null,
            "grid_row": null,
            "grid_template_areas": null,
            "grid_template_columns": null,
            "grid_template_rows": null,
            "height": null,
            "justify_content": null,
            "justify_items": null,
            "left": null,
            "margin": null,
            "max_height": null,
            "max_width": null,
            "min_height": null,
            "min_width": null,
            "object_fit": null,
            "object_position": null,
            "order": null,
            "overflow": null,
            "overflow_x": null,
            "overflow_y": null,
            "padding": null,
            "right": null,
            "top": null,
            "visibility": null,
            "width": null
          }
        },
        "c046cab693424faeb4dd0816dd0d9545": {
          "model_module": "@jupyter-widgets/controls",
          "model_name": "DescriptionStyleModel",
          "model_module_version": "1.5.0",
          "state": {
            "_model_module": "@jupyter-widgets/controls",
            "_model_module_version": "1.5.0",
            "_model_name": "DescriptionStyleModel",
            "_view_count": null,
            "_view_module": "@jupyter-widgets/base",
            "_view_module_version": "1.2.0",
            "_view_name": "StyleView",
            "description_width": ""
          }
        },
        "ebdb5b3b1635471e8bb1938bba1a35e8": {
          "model_module": "@jupyter-widgets/controls",
          "model_name": "HBoxModel",
          "model_module_version": "1.5.0",
          "state": {
            "_dom_classes": [],
            "_model_module": "@jupyter-widgets/controls",
            "_model_module_version": "1.5.0",
            "_model_name": "HBoxModel",
            "_view_count": null,
            "_view_module": "@jupyter-widgets/controls",
            "_view_module_version": "1.5.0",
            "_view_name": "HBoxView",
            "box_style": "",
            "children": [
              "IPY_MODEL_37cf84bfe88644afb1d480727f1cb079",
              "IPY_MODEL_a598d14195ab442599d5d8da7a9e596d",
              "IPY_MODEL_b6695d0800154882a90e1682eb470eef"
            ],
            "layout": "IPY_MODEL_461cefe5b92c41c8875ec1c3b73756c6"
          }
        },
        "37cf84bfe88644afb1d480727f1cb079": {
          "model_module": "@jupyter-widgets/controls",
          "model_name": "HTMLModel",
          "model_module_version": "1.5.0",
          "state": {
            "_dom_classes": [],
            "_model_module": "@jupyter-widgets/controls",
            "_model_module_version": "1.5.0",
            "_model_name": "HTMLModel",
            "_view_count": null,
            "_view_module": "@jupyter-widgets/controls",
            "_view_module_version": "1.5.0",
            "_view_name": "HTMLView",
            "description": "",
            "description_tooltip": null,
            "layout": "IPY_MODEL_bb9ff343d51447c4992c7de72c8a7f3f",
            "placeholder": "​",
            "style": "IPY_MODEL_7d4b404fa606491bbf5bd084b96ee877",
            "value": "100%"
          }
        },
        "a598d14195ab442599d5d8da7a9e596d": {
          "model_module": "@jupyter-widgets/controls",
          "model_name": "FloatProgressModel",
          "model_module_version": "1.5.0",
          "state": {
            "_dom_classes": [],
            "_model_module": "@jupyter-widgets/controls",
            "_model_module_version": "1.5.0",
            "_model_name": "FloatProgressModel",
            "_view_count": null,
            "_view_module": "@jupyter-widgets/controls",
            "_view_module_version": "1.5.0",
            "_view_name": "ProgressView",
            "bar_style": "success",
            "description": "",
            "description_tooltip": null,
            "layout": "IPY_MODEL_553e0753c6614915a522a5fca2acc45a",
            "max": 1648877,
            "min": 0,
            "orientation": "horizontal",
            "style": "IPY_MODEL_68f020226f474797ada2b6fbe347bc85",
            "value": 1648877
          }
        },
        "b6695d0800154882a90e1682eb470eef": {
          "model_module": "@jupyter-widgets/controls",
          "model_name": "HTMLModel",
          "model_module_version": "1.5.0",
          "state": {
            "_dom_classes": [],
            "_model_module": "@jupyter-widgets/controls",
            "_model_module_version": "1.5.0",
            "_model_name": "HTMLModel",
            "_view_count": null,
            "_view_module": "@jupyter-widgets/controls",
            "_view_module_version": "1.5.0",
            "_view_name": "HTMLView",
            "description": "",
            "description_tooltip": null,
            "layout": "IPY_MODEL_942e8737cb344b0f96e19805cd9b5638",
            "placeholder": "​",
            "style": "IPY_MODEL_207bd6e977404433af15b4cf572f8a24",
            "value": " 1648877/1648877 [00:00&lt;00:00, 2073995.68it/s]"
          }
        },
        "461cefe5b92c41c8875ec1c3b73756c6": {
          "model_module": "@jupyter-widgets/base",
          "model_name": "LayoutModel",
          "model_module_version": "1.2.0",
          "state": {
            "_model_module": "@jupyter-widgets/base",
            "_model_module_version": "1.2.0",
            "_model_name": "LayoutModel",
            "_view_count": null,
            "_view_module": "@jupyter-widgets/base",
            "_view_module_version": "1.2.0",
            "_view_name": "LayoutView",
            "align_content": null,
            "align_items": null,
            "align_self": null,
            "border": null,
            "bottom": null,
            "display": null,
            "flex": null,
            "flex_flow": null,
            "grid_area": null,
            "grid_auto_columns": null,
            "grid_auto_flow": null,
            "grid_auto_rows": null,
            "grid_column": null,
            "grid_gap": null,
            "grid_row": null,
            "grid_template_areas": null,
            "grid_template_columns": null,
            "grid_template_rows": null,
            "height": null,
            "justify_content": null,
            "justify_items": null,
            "left": null,
            "margin": null,
            "max_height": null,
            "max_width": null,
            "min_height": null,
            "min_width": null,
            "object_fit": null,
            "object_position": null,
            "order": null,
            "overflow": null,
            "overflow_x": null,
            "overflow_y": null,
            "padding": null,
            "right": null,
            "top": null,
            "visibility": null,
            "width": null
          }
        },
        "bb9ff343d51447c4992c7de72c8a7f3f": {
          "model_module": "@jupyter-widgets/base",
          "model_name": "LayoutModel",
          "model_module_version": "1.2.0",
          "state": {
            "_model_module": "@jupyter-widgets/base",
            "_model_module_version": "1.2.0",
            "_model_name": "LayoutModel",
            "_view_count": null,
            "_view_module": "@jupyter-widgets/base",
            "_view_module_version": "1.2.0",
            "_view_name": "LayoutView",
            "align_content": null,
            "align_items": null,
            "align_self": null,
            "border": null,
            "bottom": null,
            "display": null,
            "flex": null,
            "flex_flow": null,
            "grid_area": null,
            "grid_auto_columns": null,
            "grid_auto_flow": null,
            "grid_auto_rows": null,
            "grid_column": null,
            "grid_gap": null,
            "grid_row": null,
            "grid_template_areas": null,
            "grid_template_columns": null,
            "grid_template_rows": null,
            "height": null,
            "justify_content": null,
            "justify_items": null,
            "left": null,
            "margin": null,
            "max_height": null,
            "max_width": null,
            "min_height": null,
            "min_width": null,
            "object_fit": null,
            "object_position": null,
            "order": null,
            "overflow": null,
            "overflow_x": null,
            "overflow_y": null,
            "padding": null,
            "right": null,
            "top": null,
            "visibility": null,
            "width": null
          }
        },
        "7d4b404fa606491bbf5bd084b96ee877": {
          "model_module": "@jupyter-widgets/controls",
          "model_name": "DescriptionStyleModel",
          "model_module_version": "1.5.0",
          "state": {
            "_model_module": "@jupyter-widgets/controls",
            "_model_module_version": "1.5.0",
            "_model_name": "DescriptionStyleModel",
            "_view_count": null,
            "_view_module": "@jupyter-widgets/base",
            "_view_module_version": "1.2.0",
            "_view_name": "StyleView",
            "description_width": ""
          }
        },
        "553e0753c6614915a522a5fca2acc45a": {
          "model_module": "@jupyter-widgets/base",
          "model_name": "LayoutModel",
          "model_module_version": "1.2.0",
          "state": {
            "_model_module": "@jupyter-widgets/base",
            "_model_module_version": "1.2.0",
            "_model_name": "LayoutModel",
            "_view_count": null,
            "_view_module": "@jupyter-widgets/base",
            "_view_module_version": "1.2.0",
            "_view_name": "LayoutView",
            "align_content": null,
            "align_items": null,
            "align_self": null,
            "border": null,
            "bottom": null,
            "display": null,
            "flex": null,
            "flex_flow": null,
            "grid_area": null,
            "grid_auto_columns": null,
            "grid_auto_flow": null,
            "grid_auto_rows": null,
            "grid_column": null,
            "grid_gap": null,
            "grid_row": null,
            "grid_template_areas": null,
            "grid_template_columns": null,
            "grid_template_rows": null,
            "height": null,
            "justify_content": null,
            "justify_items": null,
            "left": null,
            "margin": null,
            "max_height": null,
            "max_width": null,
            "min_height": null,
            "min_width": null,
            "object_fit": null,
            "object_position": null,
            "order": null,
            "overflow": null,
            "overflow_x": null,
            "overflow_y": null,
            "padding": null,
            "right": null,
            "top": null,
            "visibility": null,
            "width": null
          }
        },
        "68f020226f474797ada2b6fbe347bc85": {
          "model_module": "@jupyter-widgets/controls",
          "model_name": "ProgressStyleModel",
          "model_module_version": "1.5.0",
          "state": {
            "_model_module": "@jupyter-widgets/controls",
            "_model_module_version": "1.5.0",
            "_model_name": "ProgressStyleModel",
            "_view_count": null,
            "_view_module": "@jupyter-widgets/base",
            "_view_module_version": "1.2.0",
            "_view_name": "StyleView",
            "bar_color": null,
            "description_width": ""
          }
        },
        "942e8737cb344b0f96e19805cd9b5638": {
          "model_module": "@jupyter-widgets/base",
          "model_name": "LayoutModel",
          "model_module_version": "1.2.0",
          "state": {
            "_model_module": "@jupyter-widgets/base",
            "_model_module_version": "1.2.0",
            "_model_name": "LayoutModel",
            "_view_count": null,
            "_view_module": "@jupyter-widgets/base",
            "_view_module_version": "1.2.0",
            "_view_name": "LayoutView",
            "align_content": null,
            "align_items": null,
            "align_self": null,
            "border": null,
            "bottom": null,
            "display": null,
            "flex": null,
            "flex_flow": null,
            "grid_area": null,
            "grid_auto_columns": null,
            "grid_auto_flow": null,
            "grid_auto_rows": null,
            "grid_column": null,
            "grid_gap": null,
            "grid_row": null,
            "grid_template_areas": null,
            "grid_template_columns": null,
            "grid_template_rows": null,
            "height": null,
            "justify_content": null,
            "justify_items": null,
            "left": null,
            "margin": null,
            "max_height": null,
            "max_width": null,
            "min_height": null,
            "min_width": null,
            "object_fit": null,
            "object_position": null,
            "order": null,
            "overflow": null,
            "overflow_x": null,
            "overflow_y": null,
            "padding": null,
            "right": null,
            "top": null,
            "visibility": null,
            "width": null
          }
        },
        "207bd6e977404433af15b4cf572f8a24": {
          "model_module": "@jupyter-widgets/controls",
          "model_name": "DescriptionStyleModel",
          "model_module_version": "1.5.0",
          "state": {
            "_model_module": "@jupyter-widgets/controls",
            "_model_module_version": "1.5.0",
            "_model_name": "DescriptionStyleModel",
            "_view_count": null,
            "_view_module": "@jupyter-widgets/base",
            "_view_module_version": "1.2.0",
            "_view_name": "StyleView",
            "description_width": ""
          }
        },
        "5ff55d363134455cae32a72812770ee8": {
          "model_module": "@jupyter-widgets/controls",
          "model_name": "HBoxModel",
          "model_module_version": "1.5.0",
          "state": {
            "_dom_classes": [],
            "_model_module": "@jupyter-widgets/controls",
            "_model_module_version": "1.5.0",
            "_model_name": "HBoxModel",
            "_view_count": null,
            "_view_module": "@jupyter-widgets/controls",
            "_view_module_version": "1.5.0",
            "_view_name": "HBoxView",
            "box_style": "",
            "children": [
              "IPY_MODEL_c270a7c1f8f04167a2590e3408e0da13",
              "IPY_MODEL_ff12a136e8b64812866dca02f17f5562",
              "IPY_MODEL_42b3ee69f78c43ce9348f06412148bbb"
            ],
            "layout": "IPY_MODEL_e44a8fba565f4a90a87f6c9578d0ed71"
          }
        },
        "c270a7c1f8f04167a2590e3408e0da13": {
          "model_module": "@jupyter-widgets/controls",
          "model_name": "HTMLModel",
          "model_module_version": "1.5.0",
          "state": {
            "_dom_classes": [],
            "_model_module": "@jupyter-widgets/controls",
            "_model_module_version": "1.5.0",
            "_model_name": "HTMLModel",
            "_view_count": null,
            "_view_module": "@jupyter-widgets/controls",
            "_view_module_version": "1.5.0",
            "_view_name": "HTMLView",
            "description": "",
            "description_tooltip": null,
            "layout": "IPY_MODEL_9cd6641e59f2423e978144004d0336e0",
            "placeholder": "​",
            "style": "IPY_MODEL_3b9bce22ecca4f518095cb43a81cd7a5",
            "value": "100%"
          }
        },
        "ff12a136e8b64812866dca02f17f5562": {
          "model_module": "@jupyter-widgets/controls",
          "model_name": "FloatProgressModel",
          "model_module_version": "1.5.0",
          "state": {
            "_dom_classes": [],
            "_model_module": "@jupyter-widgets/controls",
            "_model_module_version": "1.5.0",
            "_model_name": "FloatProgressModel",
            "_view_count": null,
            "_view_module": "@jupyter-widgets/controls",
            "_view_module_version": "1.5.0",
            "_view_name": "ProgressView",
            "bar_style": "success",
            "description": "",
            "description_tooltip": null,
            "layout": "IPY_MODEL_0f800c3e068e42c0b7e7e6f9cc277bcf",
            "max": 4542,
            "min": 0,
            "orientation": "horizontal",
            "style": "IPY_MODEL_a0307e0b12cf4e9db9e368b5bfa393eb",
            "value": 4542
          }
        },
        "42b3ee69f78c43ce9348f06412148bbb": {
          "model_module": "@jupyter-widgets/controls",
          "model_name": "HTMLModel",
          "model_module_version": "1.5.0",
          "state": {
            "_dom_classes": [],
            "_model_module": "@jupyter-widgets/controls",
            "_model_module_version": "1.5.0",
            "_model_name": "HTMLModel",
            "_view_count": null,
            "_view_module": "@jupyter-widgets/controls",
            "_view_module_version": "1.5.0",
            "_view_name": "HTMLView",
            "description": "",
            "description_tooltip": null,
            "layout": "IPY_MODEL_d3805b39e783461b89d54fb043806401",
            "placeholder": "​",
            "style": "IPY_MODEL_ae0f74d06bf04d80aea8ec0daeaec592",
            "value": " 4542/4542 [00:00&lt;00:00, 58021.62it/s]"
          }
        },
        "e44a8fba565f4a90a87f6c9578d0ed71": {
          "model_module": "@jupyter-widgets/base",
          "model_name": "LayoutModel",
          "model_module_version": "1.2.0",
          "state": {
            "_model_module": "@jupyter-widgets/base",
            "_model_module_version": "1.2.0",
            "_model_name": "LayoutModel",
            "_view_count": null,
            "_view_module": "@jupyter-widgets/base",
            "_view_module_version": "1.2.0",
            "_view_name": "LayoutView",
            "align_content": null,
            "align_items": null,
            "align_self": null,
            "border": null,
            "bottom": null,
            "display": null,
            "flex": null,
            "flex_flow": null,
            "grid_area": null,
            "grid_auto_columns": null,
            "grid_auto_flow": null,
            "grid_auto_rows": null,
            "grid_column": null,
            "grid_gap": null,
            "grid_row": null,
            "grid_template_areas": null,
            "grid_template_columns": null,
            "grid_template_rows": null,
            "height": null,
            "justify_content": null,
            "justify_items": null,
            "left": null,
            "margin": null,
            "max_height": null,
            "max_width": null,
            "min_height": null,
            "min_width": null,
            "object_fit": null,
            "object_position": null,
            "order": null,
            "overflow": null,
            "overflow_x": null,
            "overflow_y": null,
            "padding": null,
            "right": null,
            "top": null,
            "visibility": null,
            "width": null
          }
        },
        "9cd6641e59f2423e978144004d0336e0": {
          "model_module": "@jupyter-widgets/base",
          "model_name": "LayoutModel",
          "model_module_version": "1.2.0",
          "state": {
            "_model_module": "@jupyter-widgets/base",
            "_model_module_version": "1.2.0",
            "_model_name": "LayoutModel",
            "_view_count": null,
            "_view_module": "@jupyter-widgets/base",
            "_view_module_version": "1.2.0",
            "_view_name": "LayoutView",
            "align_content": null,
            "align_items": null,
            "align_self": null,
            "border": null,
            "bottom": null,
            "display": null,
            "flex": null,
            "flex_flow": null,
            "grid_area": null,
            "grid_auto_columns": null,
            "grid_auto_flow": null,
            "grid_auto_rows": null,
            "grid_column": null,
            "grid_gap": null,
            "grid_row": null,
            "grid_template_areas": null,
            "grid_template_columns": null,
            "grid_template_rows": null,
            "height": null,
            "justify_content": null,
            "justify_items": null,
            "left": null,
            "margin": null,
            "max_height": null,
            "max_width": null,
            "min_height": null,
            "min_width": null,
            "object_fit": null,
            "object_position": null,
            "order": null,
            "overflow": null,
            "overflow_x": null,
            "overflow_y": null,
            "padding": null,
            "right": null,
            "top": null,
            "visibility": null,
            "width": null
          }
        },
        "3b9bce22ecca4f518095cb43a81cd7a5": {
          "model_module": "@jupyter-widgets/controls",
          "model_name": "DescriptionStyleModel",
          "model_module_version": "1.5.0",
          "state": {
            "_model_module": "@jupyter-widgets/controls",
            "_model_module_version": "1.5.0",
            "_model_name": "DescriptionStyleModel",
            "_view_count": null,
            "_view_module": "@jupyter-widgets/base",
            "_view_module_version": "1.2.0",
            "_view_name": "StyleView",
            "description_width": ""
          }
        },
        "0f800c3e068e42c0b7e7e6f9cc277bcf": {
          "model_module": "@jupyter-widgets/base",
          "model_name": "LayoutModel",
          "model_module_version": "1.2.0",
          "state": {
            "_model_module": "@jupyter-widgets/base",
            "_model_module_version": "1.2.0",
            "_model_name": "LayoutModel",
            "_view_count": null,
            "_view_module": "@jupyter-widgets/base",
            "_view_module_version": "1.2.0",
            "_view_name": "LayoutView",
            "align_content": null,
            "align_items": null,
            "align_self": null,
            "border": null,
            "bottom": null,
            "display": null,
            "flex": null,
            "flex_flow": null,
            "grid_area": null,
            "grid_auto_columns": null,
            "grid_auto_flow": null,
            "grid_auto_rows": null,
            "grid_column": null,
            "grid_gap": null,
            "grid_row": null,
            "grid_template_areas": null,
            "grid_template_columns": null,
            "grid_template_rows": null,
            "height": null,
            "justify_content": null,
            "justify_items": null,
            "left": null,
            "margin": null,
            "max_height": null,
            "max_width": null,
            "min_height": null,
            "min_width": null,
            "object_fit": null,
            "object_position": null,
            "order": null,
            "overflow": null,
            "overflow_x": null,
            "overflow_y": null,
            "padding": null,
            "right": null,
            "top": null,
            "visibility": null,
            "width": null
          }
        },
        "a0307e0b12cf4e9db9e368b5bfa393eb": {
          "model_module": "@jupyter-widgets/controls",
          "model_name": "ProgressStyleModel",
          "model_module_version": "1.5.0",
          "state": {
            "_model_module": "@jupyter-widgets/controls",
            "_model_module_version": "1.5.0",
            "_model_name": "ProgressStyleModel",
            "_view_count": null,
            "_view_module": "@jupyter-widgets/base",
            "_view_module_version": "1.2.0",
            "_view_name": "StyleView",
            "bar_color": null,
            "description_width": ""
          }
        },
        "d3805b39e783461b89d54fb043806401": {
          "model_module": "@jupyter-widgets/base",
          "model_name": "LayoutModel",
          "model_module_version": "1.2.0",
          "state": {
            "_model_module": "@jupyter-widgets/base",
            "_model_module_version": "1.2.0",
            "_model_name": "LayoutModel",
            "_view_count": null,
            "_view_module": "@jupyter-widgets/base",
            "_view_module_version": "1.2.0",
            "_view_name": "LayoutView",
            "align_content": null,
            "align_items": null,
            "align_self": null,
            "border": null,
            "bottom": null,
            "display": null,
            "flex": null,
            "flex_flow": null,
            "grid_area": null,
            "grid_auto_columns": null,
            "grid_auto_flow": null,
            "grid_auto_rows": null,
            "grid_column": null,
            "grid_gap": null,
            "grid_row": null,
            "grid_template_areas": null,
            "grid_template_columns": null,
            "grid_template_rows": null,
            "height": null,
            "justify_content": null,
            "justify_items": null,
            "left": null,
            "margin": null,
            "max_height": null,
            "max_width": null,
            "min_height": null,
            "min_width": null,
            "object_fit": null,
            "object_position": null,
            "order": null,
            "overflow": null,
            "overflow_x": null,
            "overflow_y": null,
            "padding": null,
            "right": null,
            "top": null,
            "visibility": null,
            "width": null
          }
        },
        "ae0f74d06bf04d80aea8ec0daeaec592": {
          "model_module": "@jupyter-widgets/controls",
          "model_name": "DescriptionStyleModel",
          "model_module_version": "1.5.0",
          "state": {
            "_model_module": "@jupyter-widgets/controls",
            "_model_module_version": "1.5.0",
            "_model_name": "DescriptionStyleModel",
            "_view_count": null,
            "_view_module": "@jupyter-widgets/base",
            "_view_module_version": "1.2.0",
            "_view_name": "StyleView",
            "description_width": ""
          }
        }
      }
    }
  },
  "cells": [
    {
      "cell_type": "markdown",
      "metadata": {
        "id": "view-in-github",
        "colab_type": "text"
      },
      "source": [
        "<a href=\"https://colab.research.google.com/github/vikasbda21/PyTorch-for-DL/blob/main/Pytorch.ipynb\" target=\"_parent\"><img src=\"https://colab.research.google.com/assets/colab-badge.svg\" alt=\"Open In Colab\"/></a>"
      ]
    },
    {
      "cell_type": "markdown",
      "source": [
        "1-D Tensor"
      ],
      "metadata": {
        "id": "XtKqirqj76Yz"
      }
    },
    {
      "cell_type": "code",
      "execution_count": 1,
      "metadata": {
        "colab": {
          "base_uri": "https://localhost:8080/"
        },
        "id": "LwcjKwG170i4",
        "outputId": "ee337526-52e5-43eb-f1d2-a18f007f4738"
      },
      "outputs": [
        {
          "output_type": "execute_result",
          "data": {
            "text/plain": [
              "tensor([12, 45, 69, 85])"
            ]
          },
          "metadata": {},
          "execution_count": 1
        }
      ],
      "source": [
        "# Create 1-D tensor\n",
        "import torch\n",
        "\n",
        "a = torch.tensor([12,45,69,85])\n",
        "a"
      ]
    },
    {
      "cell_type": "code",
      "source": [
        "# tensor extract data using intex values\n",
        "a[0], a[1], a[3]"
      ],
      "metadata": {
        "colab": {
          "base_uri": "https://localhost:8080/"
        },
        "id": "MNvuQDeq79Qd",
        "outputId": "3521c02a-cdec-4387-938a-22d859ace069"
      },
      "execution_count": 2,
      "outputs": [
        {
          "output_type": "execute_result",
          "data": {
            "text/plain": [
              "(tensor(12), tensor(45), tensor(85))"
            ]
          },
          "metadata": {},
          "execution_count": 2
        }
      ]
    },
    {
      "cell_type": "code",
      "source": [
        "# TO find the type of data that is stored within the tensor\n",
        "a.dtype"
      ],
      "metadata": {
        "colab": {
          "base_uri": "https://localhost:8080/"
        },
        "id": "jwG1RR0y88Jd",
        "outputId": "520906d4-ac3f-4d1e-b010-790148f92085"
      },
      "execution_count": 3,
      "outputs": [
        {
          "output_type": "execute_result",
          "data": {
            "text/plain": [
              "torch.int64"
            ]
          },
          "metadata": {},
          "execution_count": 3
        }
      ]
    },
    {
      "cell_type": "code",
      "source": [
        "# We can also specify the datatype of a tensor with the constuctor\n",
        "a1 = torch.tensor([0.0,1.0,3.0,6.0], dtype=torch.int32)\n",
        "a1.dtype"
      ],
      "metadata": {
        "colab": {
          "base_uri": "https://localhost:8080/"
        },
        "id": "z8Koa9Ni9OF5",
        "outputId": "6271c62d-9785-43b9-8117-ca3655e316c9"
      },
      "execution_count": 4,
      "outputs": [
        {
          "output_type": "execute_result",
          "data": {
            "text/plain": [
              "torch.int32"
            ]
          },
          "metadata": {},
          "execution_count": 4
        }
      ]
    },
    {
      "cell_type": "code",
      "source": [
        "# We can also explicity create a tensor of specific type\n",
        "arr = torch.FloatTensor([0,2,3,5,9])\n",
        "arr.dtype"
      ],
      "metadata": {
        "colab": {
          "base_uri": "https://localhost:8080/"
        },
        "id": "J2EIoOgv-dsk",
        "outputId": "2ce179b8-ef80-4907-8e70-7f486121f5b1"
      },
      "execution_count": 5,
      "outputs": [
        {
          "output_type": "execute_result",
          "data": {
            "text/plain": [
              "torch.float32"
            ]
          },
          "metadata": {},
          "execution_count": 5
        }
      ]
    },
    {
      "cell_type": "code",
      "source": [
        "# We can also change the type of tensor to float using type() and passing in the argument torch.FloatTensor\n",
        "a=a.type(torch.FloatTensor)"
      ],
      "metadata": {
        "id": "cPGHUwBw_Ip2"
      },
      "execution_count": 6,
      "outputs": []
    },
    {
      "cell_type": "code",
      "source": [
        "a"
      ],
      "metadata": {
        "colab": {
          "base_uri": "https://localhost:8080/"
        },
        "id": "UmlQJIUwADT6",
        "outputId": "1e6e9a2f-5c01-4a6a-e1b7-2dc2ccac5f6b"
      },
      "execution_count": 7,
      "outputs": [
        {
          "output_type": "execute_result",
          "data": {
            "text/plain": [
              "tensor([12., 45., 69., 85.])"
            ]
          },
          "metadata": {},
          "execution_count": 7
        }
      ]
    },
    {
      "cell_type": "code",
      "source": [
        "a.size()"
      ],
      "metadata": {
        "colab": {
          "base_uri": "https://localhost:8080/"
        },
        "id": "d33jViewAD6e",
        "outputId": "c7a1caad-8973-4626-c817-c4cdbf844c91"
      },
      "execution_count": 8,
      "outputs": [
        {
          "output_type": "execute_result",
          "data": {
            "text/plain": [
              "torch.Size([4])"
            ]
          },
          "metadata": {},
          "execution_count": 8
        }
      ]
    },
    {
      "cell_type": "code",
      "source": [
        "a.ndimension()"
      ],
      "metadata": {
        "colab": {
          "base_uri": "https://localhost:8080/"
        },
        "id": "V1GHvlRiAsPD",
        "outputId": "b7cdde0f-7114-49b7-a6f1-cac58c90bfe7"
      },
      "execution_count": 9,
      "outputs": [
        {
          "output_type": "execute_result",
          "data": {
            "text/plain": [
              "1"
            ]
          },
          "metadata": {},
          "execution_count": 9
        }
      ]
    },
    {
      "cell_type": "code",
      "source": [
        "# We will convert this tensor into a 2-D tensor using the view method in pytorch.\n",
        "one_D = torch.tensor([1,2,3,4,5])\n",
        "col_a = one_D.view(5,1)\n",
        "col_a"
      ],
      "metadata": {
        "colab": {
          "base_uri": "https://localhost:8080/"
        },
        "id": "MhBMlUS_AwgR",
        "outputId": "79ec3098-0e71-4f90-b1b4-53fa612329eb"
      },
      "execution_count": 10,
      "outputs": [
        {
          "output_type": "execute_result",
          "data": {
            "text/plain": [
              "tensor([[1],\n",
              "        [2],\n",
              "        [3],\n",
              "        [4],\n",
              "        [5]])"
            ]
          },
          "metadata": {},
          "execution_count": 10
        }
      ]
    },
    {
      "cell_type": "code",
      "source": [
        "# We can reshape the tensor using view()\n",
        "col_a = a.view(-1,1)\n",
        "col_a"
      ],
      "metadata": {
        "colab": {
          "base_uri": "https://localhost:8080/"
        },
        "id": "z9b99onPMIi7",
        "outputId": "98417b71-f8de-427a-a206-783321b60a8f"
      },
      "execution_count": 11,
      "outputs": [
        {
          "output_type": "execute_result",
          "data": {
            "text/plain": [
              "tensor([[12.],\n",
              "        [45.],\n",
              "        [69.],\n",
              "        [85.]])"
            ]
          },
          "metadata": {},
          "execution_count": 11
        }
      ]
    },
    {
      "cell_type": "code",
      "source": [
        "col_a.ndimension()"
      ],
      "metadata": {
        "colab": {
          "base_uri": "https://localhost:8080/"
        },
        "id": "dVcG9g3PMrMT",
        "outputId": "b4e7bef0-bad7-462f-ff9f-2fb81cc89ffd"
      },
      "execution_count": 12,
      "outputs": [
        {
          "output_type": "execute_result",
          "data": {
            "text/plain": [
              "2"
            ]
          },
          "metadata": {},
          "execution_count": 12
        }
      ]
    },
    {
      "cell_type": "code",
      "source": [
        "#  We can convert a numpy array to a torch tensor using the function “from numpy”.\n",
        "import torch\n",
        "import numpy as np\n",
        "numpy_array = np.array([0.0,1.0,2.0,3.0,4.0,5.0])\n",
        "print(\"numpy array :\",numpy_array)\n",
        "print(type(numpy_array))\n",
        "torch_array = torch.from_numpy(numpy_array)\n",
        "print(\"torch array :\",torch_array)\n",
        "print(type(torch_array))"
      ],
      "metadata": {
        "id": "vRntXw24M2L9",
        "colab": {
          "base_uri": "https://localhost:8080/"
        },
        "outputId": "7b279358-1f38-4198-e090-5b34b5800a0c"
      },
      "execution_count": 13,
      "outputs": [
        {
          "output_type": "stream",
          "name": "stdout",
          "text": [
            "numpy array : [0. 1. 2. 3. 4. 5.]\n",
            "<class 'numpy.ndarray'>\n",
            "torch array : tensor([0., 1., 2., 3., 4., 5.], dtype=torch.float64)\n",
            "<class 'torch.Tensor'>\n"
          ]
        }
      ]
    },
    {
      "cell_type": "code",
      "source": [
        "# We can convert the torch tensor back to numpy array using the method numpy\n",
        "back_to_numpy = torch_array.numpy()\n",
        "print(type(back_to_numpy))\n"
      ],
      "metadata": {
        "colab": {
          "base_uri": "https://localhost:8080/"
        },
        "id": "NEodVjPVwZUn",
        "outputId": "37324d3f-5208-4561-c5b7-3e7a8670b3b6"
      },
      "execution_count": 14,
      "outputs": [
        {
          "output_type": "stream",
          "name": "stdout",
          "text": [
            "<class 'numpy.ndarray'>\n"
          ]
        }
      ]
    },
    {
      "cell_type": "code",
      "source": [
        "#We can convert a pandas series to a tensor in a similar manner.\n",
        "import pandas as pd\n",
        "pandas_series = pd.Series([0.5,3.0,71.5,6.0])\n",
        "print(type(pandas_series))\n",
        "\n",
        "#  We simply use the attribute “values” to convert the series to a numpy array\n",
        "\n",
        "pandas_to_tensor = torch.from_numpy(pandas_series.values)\n",
        "print(type(pandas_to_tensor))"
      ],
      "metadata": {
        "colab": {
          "base_uri": "https://localhost:8080/"
        },
        "id": "YpGbNitaxmOZ",
        "outputId": "74e9b048-852c-4708-e0e1-ac11fa1eb9b1"
      },
      "execution_count": 15,
      "outputs": [
        {
          "output_type": "stream",
          "name": "stdout",
          "text": [
            "<class 'pandas.core.series.Series'>\n",
            "<class 'torch.Tensor'>\n"
          ]
        }
      ]
    },
    {
      "cell_type": "code",
      "source": [
        "# we use to tolist() to return the list from tensor\n",
        "tensor = torch.tensor([3.0,5.0,6.0])\n",
        "tensor_to_list = tensor.tolist()\n",
        "print(tensor_to_list) \n",
        "type(tensor_to_list)"
      ],
      "metadata": {
        "colab": {
          "base_uri": "https://localhost:8080/"
        },
        "id": "q7pdkl8ayulU",
        "outputId": "a71409c5-ce69-4885-cce6-6622affce89e"
      },
      "execution_count": 16,
      "outputs": [
        {
          "output_type": "stream",
          "name": "stdout",
          "text": [
            "[3.0, 5.0, 6.0]\n"
          ]
        },
        {
          "output_type": "execute_result",
          "data": {
            "text/plain": [
              "list"
            ]
          },
          "metadata": {},
          "execution_count": 16
        }
      ]
    },
    {
      "cell_type": "code",
      "source": [
        "print(tensor[1])\n",
        "print(tensor[1].item()) # We can also use item()"
      ],
      "metadata": {
        "colab": {
          "base_uri": "https://localhost:8080/"
        },
        "id": "ewKiU5XE0wpp",
        "outputId": "030e93b5-b63f-4834-c21f-2f1c0b91311a"
      },
      "execution_count": 17,
      "outputs": [
        {
          "output_type": "stream",
          "name": "stdout",
          "text": [
            "tensor(5.)\n",
            "5.0\n"
          ]
        }
      ]
    },
    {
      "cell_type": "markdown",
      "source": [
        "**Indexing & Slicing**\n",
        "\n",
        "Indexing and Slicing methods that you can use to access a particular value or set of values stored in a tensor. "
      ],
      "metadata": {
        "id": "TkIz7dgq1idF"
      }
    },
    {
      "cell_type": "code",
      "source": [
        "c=torch.tensor([10,6,50,90,40,55])\n",
        "c"
      ],
      "metadata": {
        "colab": {
          "base_uri": "https://localhost:8080/"
        },
        "id": "MChvJ1m81FIO",
        "outputId": "a183d01f-646a-4c10-9eff-db669278c01e"
      },
      "execution_count": 18,
      "outputs": [
        {
          "output_type": "execute_result",
          "data": {
            "text/plain": [
              "tensor([10,  6, 50, 90, 40, 55])"
            ]
          },
          "metadata": {},
          "execution_count": 18
        }
      ]
    },
    {
      "cell_type": "code",
      "source": [
        "c[0].item()"
      ],
      "metadata": {
        "colab": {
          "base_uri": "https://localhost:8080/"
        },
        "id": "0BHPiQ-s2ZRH",
        "outputId": "5f2dc0ac-11ac-4b40-b0d7-44941b716fbb"
      },
      "execution_count": 19,
      "outputs": [
        {
          "output_type": "execute_result",
          "data": {
            "text/plain": [
              "10"
            ]
          },
          "metadata": {},
          "execution_count": 19
        }
      ]
    },
    {
      "cell_type": "markdown",
      "source": [
        "# Indexing"
      ],
      "metadata": {
        "id": "50LoCuNB3_yr"
      }
    },
    {
      "cell_type": "code",
      "source": [
        "# we can change the element of the tensor to 100 \n",
        "print(\"Before change the element :\",c)\n",
        "c[0]=100\n",
        "\n",
        "# Now tensor first value is 100\n",
        "print(\"First element change  :\", c)\n",
        "\n",
        "# Now we can change the 5th element \n",
        "c[4]=20\n",
        "print(\"After change the 5th element :\", c)"
      ],
      "metadata": {
        "colab": {
          "base_uri": "https://localhost:8080/"
        },
        "id": "NNDpEIMv2dIp",
        "outputId": "7c1d7ef6-4f22-4c7b-a570-172704dc62fe"
      },
      "execution_count": 20,
      "outputs": [
        {
          "output_type": "stream",
          "name": "stdout",
          "text": [
            "Before change the element : tensor([10,  6, 50, 90, 40, 55])\n",
            "First element change  : tensor([100,   6,  50,  90,  40,  55])\n",
            "After change the 5th element : tensor([100,   6,  50,  90,  20,  55])\n"
          ]
        }
      ]
    },
    {
      "cell_type": "markdown",
      "source": [
        "# Slicing"
      ],
      "metadata": {
        "id": "jA1F8cQG4DmW"
      }
    },
    {
      "cell_type": "code",
      "source": [
        "print(\"Element :\",c)\n",
        "d=c[:4]\n",
        "# After Slic the tensor print start index to end index- 1 element\n",
        "print(\"After slice the tensor :\",d)\n",
        "print(c[4:6])"
      ],
      "metadata": {
        "colab": {
          "base_uri": "https://localhost:8080/"
        },
        "id": "1_ApWiK22iqz",
        "outputId": "4f2e14c4-7718-46bf-b908-d60d4e085ebf"
      },
      "execution_count": 21,
      "outputs": [
        {
          "output_type": "stream",
          "name": "stdout",
          "text": [
            "Element : tensor([100,   6,  50,  90,  20,  55])\n",
            "After slice the tensor : tensor([100,   6,  50,  90])\n",
            "tensor([20, 55])\n"
          ]
        }
      ]
    },
    {
      "cell_type": "markdown",
      "source": [
        "**Basic Operations**"
      ],
      "metadata": {
        "id": "A-QfscJS5rt_"
      }
    },
    {
      "cell_type": "code",
      "source": [
        "# Vector Addition & Subtraction\n",
        "u = torch.tensor([0,1.0])\n",
        "v = torch.tensor([1.0,0])\n",
        "z=u+v\n",
        "print(z)"
      ],
      "metadata": {
        "colab": {
          "base_uri": "https://localhost:8080/"
        },
        "id": "u00gNoAI2jb4",
        "outputId": "6074b0ca-8a2a-4702-8155-1947067ae193"
      },
      "execution_count": 22,
      "outputs": [
        {
          "output_type": "stream",
          "name": "stdout",
          "text": [
            "tensor([1., 1.])\n"
          ]
        }
      ]
    },
    {
      "cell_type": "code",
      "source": [
        "# vector multiplication with scaler\n",
        "y= torch.tensor([3.0,6.0])\n",
        "w = 2*y\n",
        "print(w)"
      ],
      "metadata": {
        "colab": {
          "base_uri": "https://localhost:8080/"
        },
        "id": "gy4q6Qit6TvA",
        "outputId": "569e702a-ebad-4e2c-b640-055fe815ecae"
      },
      "execution_count": 23,
      "outputs": [
        {
          "output_type": "stream",
          "name": "stdout",
          "text": [
            "tensor([ 6., 12.])\n"
          ]
        }
      ]
    },
    {
      "cell_type": "code",
      "source": [
        "# Product of two tensors\n",
        "a = torch.tensor([2.0,3.0])\n",
        "b = torch.tensor([4.0,5.0])\n",
        "m = a*b\n",
        "print(m)"
      ],
      "metadata": {
        "colab": {
          "base_uri": "https://localhost:8080/"
        },
        "id": "n1L8tbov6-JP",
        "outputId": "ee389602-5a82-482c-c2f5-05dd49afec0f"
      },
      "execution_count": 24,
      "outputs": [
        {
          "output_type": "stream",
          "name": "stdout",
          "text": [
            "tensor([ 8., 15.])\n"
          ]
        }
      ]
    },
    {
      "cell_type": "code",
      "source": [
        "# Dot product U^TV= 2*4+3*5\n",
        "result = torch.dot(a,b)\n",
        "print(result)"
      ],
      "metadata": {
        "colab": {
          "base_uri": "https://localhost:8080/"
        },
        "id": "_DlAcZiF-AOP",
        "outputId": "60b7595a-1a83-4bfa-8f68-052c26c5425a"
      },
      "execution_count": 25,
      "outputs": [
        {
          "output_type": "stream",
          "name": "stdout",
          "text": [
            "tensor(23.)\n"
          ]
        }
      ]
    },
    {
      "cell_type": "code",
      "source": [
        "# Adding constant to a tensor\n",
        "Z = a+1\n",
        "print(a)\n",
        "print(\"After Adding 1 to a tensor\", Z)"
      ],
      "metadata": {
        "colab": {
          "base_uri": "https://localhost:8080/"
        },
        "id": "M33WZUF1_NG6",
        "outputId": "9f80b18c-67eb-4052-afc0-49a4295801e2"
      },
      "execution_count": 26,
      "outputs": [
        {
          "output_type": "stream",
          "name": "stdout",
          "text": [
            "tensor([2., 3.])\n",
            "After Adding 1 to a tensor tensor([3., 4.])\n"
          ]
        }
      ]
    },
    {
      "cell_type": "markdown",
      "source": [
        "**Functions**"
      ],
      "metadata": {
        "id": "00OfYyZt_z0G"
      }
    },
    {
      "cell_type": "code",
      "source": [
        "A = torch.tensor([1.0,-1,-1,1])\n",
        "# Lets calculate the mean or AVG\n",
        "mean_A = A.mean()\n",
        "print(mean_A)"
      ],
      "metadata": {
        "colab": {
          "base_uri": "https://localhost:8080/"
        },
        "id": "fjh2aWMX_pnM",
        "outputId": "7785fc01-c95b-485b-968c-8543de0fad43"
      },
      "execution_count": 27,
      "outputs": [
        {
          "output_type": "stream",
          "name": "stdout",
          "text": [
            "tensor(0.)\n"
          ]
        }
      ]
    },
    {
      "cell_type": "code",
      "source": [
        "# find the maximum and minimum value\n",
        "a = torch.tensor([-20,12,50,60,100])\n",
        "print(a.max())\n",
        "print(a.min())"
      ],
      "metadata": {
        "colab": {
          "base_uri": "https://localhost:8080/"
        },
        "id": "5sunMlfPALfA",
        "outputId": "317ec4db-90f6-494f-9b5f-0a9c0023fe41"
      },
      "execution_count": 28,
      "outputs": [
        {
          "output_type": "stream",
          "name": "stdout",
          "text": [
            "tensor(100)\n",
            "tensor(-20)\n"
          ]
        }
      ]
    },
    {
      "cell_type": "code",
      "source": [
        "# Some Universal Functon\n",
        "np.pi\n",
        "u = torch.tensor([0,np.pi/2,np.pi])\n",
        "print(u)\n",
        "y = torch.sin(u)\n",
        "print(y)"
      ],
      "metadata": {
        "colab": {
          "base_uri": "https://localhost:8080/"
        },
        "id": "-I1ERN90AoY2",
        "outputId": "ffd4b9e9-1fc9-427d-aeaf-a2492ec52160"
      },
      "execution_count": 29,
      "outputs": [
        {
          "output_type": "stream",
          "name": "stdout",
          "text": [
            "tensor([0.0000, 1.5708, 3.1416])\n",
            "tensor([ 0.0000e+00,  1.0000e+00, -8.7423e-08])\n"
          ]
        }
      ]
    },
    {
      "cell_type": "code",
      "source": [
        "# Some line Space\n",
        "\n",
        "x = torch.linspace(-2,2,steps=3)\n",
        "x"
      ],
      "metadata": {
        "colab": {
          "base_uri": "https://localhost:8080/"
        },
        "id": "tSygJbdeBH1K",
        "outputId": "a030cd32-177b-4013-ceea-33041947ea15"
      },
      "execution_count": 30,
      "outputs": [
        {
          "output_type": "execute_result",
          "data": {
            "text/plain": [
              "tensor([-2.,  0.,  2.])"
            ]
          },
          "metadata": {},
          "execution_count": 30
        }
      ]
    },
    {
      "cell_type": "code",
      "source": [
        "x=torch.linspace(0,2*np.pi,100)\n",
        "y=torch.sin(x)\n",
        "import matplotlib.pyplot as plt\n",
        "%matplotlib inline\n",
        "plt.plot(x.numpy(),y.numpy())"
      ],
      "metadata": {
        "colab": {
          "base_uri": "https://localhost:8080/",
          "height": 282
        },
        "id": "Bp7OecNICCsK",
        "outputId": "107a34a2-3abe-4220-e267-a698a13f5189"
      },
      "execution_count": 31,
      "outputs": [
        {
          "output_type": "execute_result",
          "data": {
            "text/plain": [
              "[<matplotlib.lines.Line2D at 0x7f20bb641490>]"
            ]
          },
          "metadata": {},
          "execution_count": 31
        },
        {
          "output_type": "display_data",
          "data": {
            "text/plain": [
              "<Figure size 432x288 with 1 Axes>"
            ],
            "image/png": "[encoded data removed]"
          },
          "metadata": {
            "needs_background": "light"
          }
        }
      ]
    },
    {
      "cell_type": "markdown",
      "source": [
        "# 2-D\n",
        "A 2d tensor can be viewed as a container the holds numerical values of the same type \n",
        "![2-D.png](data:image/png;base64,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)"
      ],
      "metadata": {
        "id": "KgmmbTxtDSmq"
      }
    },
    {
      "cell_type": "code",
      "source": [
        "a = [[11,12,13],[21,22,23],[31,32,33]]\n",
        "A = torch.tensor(a)\n",
        "print(A)\n",
        "print(A.ndimension())"
      ],
      "metadata": {
        "colab": {
          "base_uri": "https://localhost:8080/"
        },
        "id": "XN6VMSt5CtXT",
        "outputId": "29560c23-fd39-4293-fc9f-7795d3bd0b59"
      },
      "execution_count": 32,
      "outputs": [
        {
          "output_type": "stream",
          "name": "stdout",
          "text": [
            "tensor([[11, 12, 13],\n",
            "        [21, 22, 23],\n",
            "        [31, 32, 33]])\n",
            "2\n"
          ]
        }
      ]
    },
    {
      "cell_type": "code",
      "source": [
        "A.shape"
      ],
      "metadata": {
        "colab": {
          "base_uri": "https://localhost:8080/"
        },
        "id": "53bpeSoyT6RM",
        "outputId": "cc199098-8b32-4fc7-c5bd-8a37520492fd"
      },
      "execution_count": 33,
      "outputs": [
        {
          "output_type": "execute_result",
          "data": {
            "text/plain": [
              "torch.Size([3, 3])"
            ]
          },
          "metadata": {},
          "execution_count": 33
        }
      ]
    },
    {
      "cell_type": "code",
      "source": [
        "A.size()"
      ],
      "metadata": {
        "colab": {
          "base_uri": "https://localhost:8080/"
        },
        "id": "3Msho_0GUIYC",
        "outputId": "28a6a86f-e301-4df3-e807-8af3e75ca0d1"
      },
      "execution_count": 34,
      "outputs": [
        {
          "output_type": "execute_result",
          "data": {
            "text/plain": [
              "torch.Size([3, 3])"
            ]
          },
          "metadata": {},
          "execution_count": 34
        }
      ]
    },
    {
      "cell_type": "markdown",
      "source": [
        "**Indexing & Slicing**"
      ],
      "metadata": {
        "id": "AFCgaiVkUaO_"
      }
    },
    {
      "cell_type": "code",
      "source": [
        "A"
      ],
      "metadata": {
        "colab": {
          "base_uri": "https://localhost:8080/"
        },
        "id": "UNPmUFpJVf-r",
        "outputId": "9714a4d3-e6e0-437c-f345-2511d10cb295"
      },
      "execution_count": 35,
      "outputs": [
        {
          "output_type": "execute_result",
          "data": {
            "text/plain": [
              "tensor([[11, 12, 13],\n",
              "        [21, 22, 23],\n",
              "        [31, 32, 33]])"
            ]
          },
          "metadata": {},
          "execution_count": 35
        }
      ]
    },
    {
      "cell_type": "code",
      "source": [
        "print(A[0][0])\n",
        "print(A[2][2])"
      ],
      "metadata": {
        "id": "1Plkel6VUOom",
        "colab": {
          "base_uri": "https://localhost:8080/"
        },
        "outputId": "f93950a7-bb54-4ff4-dcc9-9687af19c66b"
      },
      "execution_count": 36,
      "outputs": [
        {
          "output_type": "stream",
          "name": "stdout",
          "text": [
            "tensor(11)\n",
            "tensor(33)\n"
          ]
        }
      ]
    },
    {
      "cell_type": "code",
      "source": [
        "# slice\n",
        "A[:3,:3]"
      ],
      "metadata": {
        "id": "34YkigONVdhy",
        "colab": {
          "base_uri": "https://localhost:8080/"
        },
        "outputId": "00aa4223-1df8-4236-973d-397ec9a528f1"
      },
      "execution_count": 37,
      "outputs": [
        {
          "output_type": "execute_result",
          "data": {
            "text/plain": [
              "tensor([[11, 12, 13],\n",
              "        [21, 22, 23],\n",
              "        [31, 32, 33]])"
            ]
          },
          "metadata": {},
          "execution_count": 37
        }
      ]
    },
    {
      "cell_type": "code",
      "source": [
        "X = torch.tensor([[1, 0], [0, 1]])\n",
        "Y = torch.tensor([[2, 1], [1, 2]]) \n",
        "X_times_Y = X * Y"
      ],
      "metadata": {
        "id": "mcbFWNV1V0rM"
      },
      "execution_count": 38,
      "outputs": []
    },
    {
      "cell_type": "code",
      "source": [
        "X_times_Y"
      ],
      "metadata": {
        "colab": {
          "base_uri": "https://localhost:8080/"
        },
        "id": "xj2fUxbFCVD8",
        "outputId": "cba63162-737e-4470-e4ee-c8e0ab4beea2"
      },
      "execution_count": 39,
      "outputs": [
        {
          "output_type": "execute_result",
          "data": {
            "text/plain": [
              "tensor([[2, 0],\n",
              "        [0, 2]])"
            ]
          },
          "metadata": {},
          "execution_count": 39
        }
      ]
    },
    {
      "cell_type": "markdown",
      "source": [
        "**Differentiation in PyTorch**"
      ],
      "metadata": {
        "id": "grub-sTikiAX"
      }
    },
    {
      "cell_type": "code",
      "source": [
        ""
      ],
      "metadata": {
        "id": "QUrsqaqbkhHu"
      },
      "execution_count": 39,
      "outputs": []
    },
    {
      "cell_type": "code",
      "source": [
        ""
      ],
      "metadata": {
        "id": "lu8qJpFmkhLP"
      },
      "execution_count": 39,
      "outputs": []
    },
    {
      "cell_type": "code",
      "source": [
        "# Image Dataset"
      ],
      "metadata": {
        "id": "accq5Q1kkhQy"
      },
      "execution_count": 40,
      "outputs": []
    },
    {
      "cell_type": "code",
      "source": [
        "from PIL import Image\n",
        "import pandas as pd\n",
        "import numpy as np\n",
        "import os\n",
        "import matplotlib.pyplot as plt\n",
        "import torchvision.datasets as dsets"
      ],
      "metadata": {
        "id": "_aHelg0rmRGR"
      },
      "execution_count": 41,
      "outputs": []
    },
    {
      "cell_type": "code",
      "source": [
        "from matplotlib import transforms\n",
        "dataset = dsets.MNIST(root='./data',train=False,download=True)"
      ],
      "metadata": {
        "id": "K4JgQfkOmuyl",
        "colab": {
          "base_uri": "https://localhost:8080/",
          "height": 423,
          "referenced_widgets": [
            "bd1c63c7d0da4a1eb55ad7e411ec2241",
            "c73fdeb5e4b6448a93ef1c0618762507",
            "543d7128be664fda896a32759d78a5e1",
            "3d5d676892094fb1bb81b6baacb696de",
            "53b23ca4492748139e47b403555be000",
            "652c71abe9f2460caa8a2b5b23f172f0",
            "0f68835ecc7d4506a0e813e49ed24a1f",
            "bd6683e548ea48da941edaab0e0ab3ce",
            "15a219ee381a4ea68959d318f223d454",
            "c06d33ca041d4b93a195039d9378c758",
            "d6d03e3276f8481d8694f67014961168",
            "5d1e8ba01bcb491a8bfe183253e7623b",
            "69465725b9cd4d789e5b9ce2bd09560c",
            "842ad275bf604c168bd46140cd0eb043",
            "c0fbf36cef3942f5bf7afbd7f2ffb996",
            "1e8b13f33a5c4c4392ed59e25a801ff6",
            "1f8c9682b6fb48e5b9fdf9a92a283b53",
            "a1ab77f866684e449226d1e9b6bb3584",
            "13a7e5f87f8c44d2b7ce81d146cd23fe",
            "2ea74527788b45358aa26db3ec48e14a",
            "0623f1e35be145469bf71cd67cb34885",
            "c046cab693424faeb4dd0816dd0d9545",
            "ebdb5b3b1635471e8bb1938bba1a35e8",
            "37cf84bfe88644afb1d480727f1cb079",
            "a598d14195ab442599d5d8da7a9e596d",
            "b6695d0800154882a90e1682eb470eef",
            "461cefe5b92c41c8875ec1c3b73756c6",
            "bb9ff343d51447c4992c7de72c8a7f3f",
            "7d4b404fa606491bbf5bd084b96ee877",
            "553e0753c6614915a522a5fca2acc45a",
            "68f020226f474797ada2b6fbe347bc85",
            "942e8737cb344b0f96e19805cd9b5638",
            "207bd6e977404433af15b4cf572f8a24",
            "5ff55d363134455cae32a72812770ee8",
            "c270a7c1f8f04167a2590e3408e0da13",
            "ff12a136e8b64812866dca02f17f5562",
            "42b3ee69f78c43ce9348f06412148bbb",
            "e44a8fba565f4a90a87f6c9578d0ed71",
            "9cd6641e59f2423e978144004d0336e0",
            "3b9bce22ecca4f518095cb43a81cd7a5",
            "0f800c3e068e42c0b7e7e6f9cc277bcf",
            "a0307e0b12cf4e9db9e368b5bfa393eb",
            "d3805b39e783461b89d54fb043806401",
            "ae0f74d06bf04d80aea8ec0daeaec592"
          ]
        },
        "outputId": "b4c99383-9c9d-4691-885e-249c9265afe1"
      },
      "execution_count": 42,
      "outputs": [
        {
          "output_type": "stream",
          "name": "stdout",
          "text": [
            "Downloading http://yann.lecun.com/exdb/mnist/train-images-idx3-ubyte.gz\n",
            "Downloading http://yann.lecun.com/exdb/mnist/train-images-idx3-ubyte.gz to ./data/MNIST/raw/train-images-idx3-ubyte.gz\n"
          ]
        },
        {
          "output_type": "display_data",
          "data": {
            "text/plain": [
              "  0%|          | 0/9912422 [00:00<?, ?it/s]"
            ],
            "application/vnd.jupyter.widget-view+json": {
              "version_major": 2,
              "version_minor": 0,
              "model_id": "bd1c63c7d0da4a1eb55ad7e411ec2241"
            }
          },
          "metadata": {}
        },
        {
          "output_type": "stream",
          "name": "stdout",
          "text": [
            "Extracting ./data/MNIST/raw/train-images-idx3-ubyte.gz to ./data/MNIST/raw\n",
            "\n",
            "Downloading http://yann.lecun.com/exdb/mnist/train-labels-idx1-ubyte.gz\n",
            "Downloading http://yann.lecun.com/exdb/mnist/train-labels-idx1-ubyte.gz to ./data/MNIST/raw/train-labels-idx1-ubyte.gz\n"
          ]
        },
        {
          "output_type": "display_data",
          "data": {
            "text/plain": [
              "  0%|          | 0/28881 [00:00<?, ?it/s]"
            ],
            "application/vnd.jupyter.widget-view+json": {
              "version_major": 2,
              "version_minor": 0,
              "model_id": "5d1e8ba01bcb491a8bfe183253e7623b"
            }
          },
          "metadata": {}
        },
        {
          "output_type": "stream",
          "name": "stdout",
          "text": [
            "Extracting ./data/MNIST/raw/train-labels-idx1-ubyte.gz to ./data/MNIST/raw\n",
            "\n",
            "Downloading http://yann.lecun.com/exdb/mnist/t10k-images-idx3-ubyte.gz\n",
            "Downloading http://yann.lecun.com/exdb/mnist/t10k-images-idx3-ubyte.gz to ./data/MNIST/raw/t10k-images-idx3-ubyte.gz\n"
          ]
        },
        {
          "output_type": "display_data",
          "data": {
            "text/plain": [
              "  0%|          | 0/1648877 [00:00<?, ?it/s]"
            ],
            "application/vnd.jupyter.widget-view+json": {
              "version_major": 2,
              "version_minor": 0,
              "model_id": "ebdb5b3b1635471e8bb1938bba1a35e8"
            }
          },
          "metadata": {}
        },
        {
          "output_type": "stream",
          "name": "stdout",
          "text": [
            "Extracting ./data/MNIST/raw/t10k-images-idx3-ubyte.gz to ./data/MNIST/raw\n",
            "\n",
            "Downloading http://yann.lecun.com/exdb/mnist/t10k-labels-idx1-ubyte.gz\n",
            "Downloading http://yann.lecun.com/exdb/mnist/t10k-labels-idx1-ubyte.gz to ./data/MNIST/raw/t10k-labels-idx1-ubyte.gz\n"
          ]
        },
        {
          "output_type": "display_data",
          "data": {
            "text/plain": [
              "  0%|          | 0/4542 [00:00<?, ?it/s]"
            ],
            "application/vnd.jupyter.widget-view+json": {
              "version_major": 2,
              "version_minor": 0,
              "model_id": "5ff55d363134455cae32a72812770ee8"
            }
          },
          "metadata": {}
        },
        {
          "output_type": "stream",
          "name": "stdout",
          "text": [
            "Extracting ./data/MNIST/raw/t10k-labels-idx1-ubyte.gz to ./data/MNIST/raw\n",
            "\n"
          ]
        }
      ]
    },
    {
      "cell_type": "code",
      "source": [
        ""
      ],
      "metadata": {
        "id": "_NO1sSBnpmul"
      },
      "execution_count": null,
      "outputs": []
    }
  ]
}